{
 "cells": [
  {
   "cell_type": "code",
   "execution_count": 1,
   "metadata": {},
   "outputs": [],
   "source": [
    "import pandas as pd\n",
    "import numpy as np\n",
    "import matplotlib.pyplot as plt\n",
    "import seaborn as sns \n",
    "from sklearn import preprocessing\n",
    "%matplotlib inline"
   ]
  },
  {
   "cell_type": "code",
   "execution_count": 2,
   "metadata": {},
   "outputs": [],
   "source": [
    "from sklearn.datasets import load_digits"
   ]
  },
  {
   "cell_type": "code",
   "execution_count": 3,
   "metadata": {},
   "outputs": [],
   "source": [
    "data = load_digits()"
   ]
  },
  {
   "cell_type": "code",
   "execution_count": 5,
   "metadata": {},
   "outputs": [],
   "source": [
    "x =data.data"
   ]
  },
  {
   "cell_type": "code",
   "execution_count": 6,
   "metadata": {},
   "outputs": [],
   "source": [
    "y = data.target"
   ]
  },
  {
   "cell_type": "code",
   "execution_count": 10,
   "metadata": {},
   "outputs": [],
   "source": [
    "X= pd.DataFrame(x)"
   ]
  },
  {
   "cell_type": "code",
   "execution_count": 11,
   "metadata": {},
   "outputs": [],
   "source": [
    "Y = pd.DataFrame(y)"
   ]
  },
  {
   "cell_type": "code",
   "execution_count": 15,
   "metadata": {},
   "outputs": [
    {
     "data": {
      "text/html": [
       "<div>\n",
       "<style scoped>\n",
       "    .dataframe tbody tr th:only-of-type {\n",
       "        vertical-align: middle;\n",
       "    }\n",
       "\n",
       "    .dataframe tbody tr th {\n",
       "        vertical-align: top;\n",
       "    }\n",
       "\n",
       "    .dataframe thead th {\n",
       "        text-align: right;\n",
       "    }\n",
       "</style>\n",
       "<table border=\"1\" class=\"dataframe\">\n",
       "  <thead>\n",
       "    <tr style=\"text-align: right;\">\n",
       "      <th></th>\n",
       "      <th>0</th>\n",
       "      <th>1</th>\n",
       "      <th>2</th>\n",
       "      <th>3</th>\n",
       "      <th>4</th>\n",
       "      <th>5</th>\n",
       "      <th>6</th>\n",
       "      <th>7</th>\n",
       "      <th>8</th>\n",
       "      <th>9</th>\n",
       "      <th>...</th>\n",
       "      <th>54</th>\n",
       "      <th>55</th>\n",
       "      <th>56</th>\n",
       "      <th>57</th>\n",
       "      <th>58</th>\n",
       "      <th>59</th>\n",
       "      <th>60</th>\n",
       "      <th>61</th>\n",
       "      <th>62</th>\n",
       "      <th>63</th>\n",
       "    </tr>\n",
       "  </thead>\n",
       "  <tbody>\n",
       "    <tr>\n",
       "      <th>0</th>\n",
       "      <td>0.0</td>\n",
       "      <td>0.0</td>\n",
       "      <td>5.0</td>\n",
       "      <td>13.0</td>\n",
       "      <td>9.0</td>\n",
       "      <td>1.0</td>\n",
       "      <td>0.0</td>\n",
       "      <td>0.0</td>\n",
       "      <td>0.0</td>\n",
       "      <td>0.0</td>\n",
       "      <td>...</td>\n",
       "      <td>0.0</td>\n",
       "      <td>0.0</td>\n",
       "      <td>0.0</td>\n",
       "      <td>0.0</td>\n",
       "      <td>6.0</td>\n",
       "      <td>13.0</td>\n",
       "      <td>10.0</td>\n",
       "      <td>0.0</td>\n",
       "      <td>0.0</td>\n",
       "      <td>0.0</td>\n",
       "    </tr>\n",
       "    <tr>\n",
       "      <th>1</th>\n",
       "      <td>0.0</td>\n",
       "      <td>0.0</td>\n",
       "      <td>0.0</td>\n",
       "      <td>12.0</td>\n",
       "      <td>13.0</td>\n",
       "      <td>5.0</td>\n",
       "      <td>0.0</td>\n",
       "      <td>0.0</td>\n",
       "      <td>0.0</td>\n",
       "      <td>0.0</td>\n",
       "      <td>...</td>\n",
       "      <td>0.0</td>\n",
       "      <td>0.0</td>\n",
       "      <td>0.0</td>\n",
       "      <td>0.0</td>\n",
       "      <td>0.0</td>\n",
       "      <td>11.0</td>\n",
       "      <td>16.0</td>\n",
       "      <td>10.0</td>\n",
       "      <td>0.0</td>\n",
       "      <td>0.0</td>\n",
       "    </tr>\n",
       "    <tr>\n",
       "      <th>2</th>\n",
       "      <td>0.0</td>\n",
       "      <td>0.0</td>\n",
       "      <td>0.0</td>\n",
       "      <td>4.0</td>\n",
       "      <td>15.0</td>\n",
       "      <td>12.0</td>\n",
       "      <td>0.0</td>\n",
       "      <td>0.0</td>\n",
       "      <td>0.0</td>\n",
       "      <td>0.0</td>\n",
       "      <td>...</td>\n",
       "      <td>5.0</td>\n",
       "      <td>0.0</td>\n",
       "      <td>0.0</td>\n",
       "      <td>0.0</td>\n",
       "      <td>0.0</td>\n",
       "      <td>3.0</td>\n",
       "      <td>11.0</td>\n",
       "      <td>16.0</td>\n",
       "      <td>9.0</td>\n",
       "      <td>0.0</td>\n",
       "    </tr>\n",
       "    <tr>\n",
       "      <th>3</th>\n",
       "      <td>0.0</td>\n",
       "      <td>0.0</td>\n",
       "      <td>7.0</td>\n",
       "      <td>15.0</td>\n",
       "      <td>13.0</td>\n",
       "      <td>1.0</td>\n",
       "      <td>0.0</td>\n",
       "      <td>0.0</td>\n",
       "      <td>0.0</td>\n",
       "      <td>8.0</td>\n",
       "      <td>...</td>\n",
       "      <td>9.0</td>\n",
       "      <td>0.0</td>\n",
       "      <td>0.0</td>\n",
       "      <td>0.0</td>\n",
       "      <td>7.0</td>\n",
       "      <td>13.0</td>\n",
       "      <td>13.0</td>\n",
       "      <td>9.0</td>\n",
       "      <td>0.0</td>\n",
       "      <td>0.0</td>\n",
       "    </tr>\n",
       "    <tr>\n",
       "      <th>4</th>\n",
       "      <td>0.0</td>\n",
       "      <td>0.0</td>\n",
       "      <td>0.0</td>\n",
       "      <td>1.0</td>\n",
       "      <td>11.0</td>\n",
       "      <td>0.0</td>\n",
       "      <td>0.0</td>\n",
       "      <td>0.0</td>\n",
       "      <td>0.0</td>\n",
       "      <td>0.0</td>\n",
       "      <td>...</td>\n",
       "      <td>0.0</td>\n",
       "      <td>0.0</td>\n",
       "      <td>0.0</td>\n",
       "      <td>0.0</td>\n",
       "      <td>0.0</td>\n",
       "      <td>2.0</td>\n",
       "      <td>16.0</td>\n",
       "      <td>4.0</td>\n",
       "      <td>0.0</td>\n",
       "      <td>0.0</td>\n",
       "    </tr>\n",
       "  </tbody>\n",
       "</table>\n",
       "<p>5 rows × 64 columns</p>\n",
       "</div>"
      ],
      "text/plain": [
       "    0    1    2     3     4     5    6    7    8    9  ...    54   55   56  \\\n",
       "0  0.0  0.0  5.0  13.0   9.0   1.0  0.0  0.0  0.0  0.0 ...   0.0  0.0  0.0   \n",
       "1  0.0  0.0  0.0  12.0  13.0   5.0  0.0  0.0  0.0  0.0 ...   0.0  0.0  0.0   \n",
       "2  0.0  0.0  0.0   4.0  15.0  12.0  0.0  0.0  0.0  0.0 ...   5.0  0.0  0.0   \n",
       "3  0.0  0.0  7.0  15.0  13.0   1.0  0.0  0.0  0.0  8.0 ...   9.0  0.0  0.0   \n",
       "4  0.0  0.0  0.0   1.0  11.0   0.0  0.0  0.0  0.0  0.0 ...   0.0  0.0  0.0   \n",
       "\n",
       "    57   58    59    60    61   62   63  \n",
       "0  0.0  6.0  13.0  10.0   0.0  0.0  0.0  \n",
       "1  0.0  0.0  11.0  16.0  10.0  0.0  0.0  \n",
       "2  0.0  0.0   3.0  11.0  16.0  9.0  0.0  \n",
       "3  0.0  7.0  13.0  13.0   9.0  0.0  0.0  \n",
       "4  0.0  0.0   2.0  16.0   4.0  0.0  0.0  \n",
       "\n",
       "[5 rows x 64 columns]"
      ]
     },
     "execution_count": 15,
     "metadata": {},
     "output_type": "execute_result"
    }
   ],
   "source": [
    "X.head()"
   ]
  },
  {
   "cell_type": "code",
   "execution_count": 16,
   "metadata": {},
   "outputs": [],
   "source": [
    "from sklearn.model_selection import train_test_split"
   ]
  },
  {
   "cell_type": "code",
   "execution_count": 17,
   "metadata": {},
   "outputs": [],
   "source": [
    "X_train,X_test,Y_train,Y_test = train_test_split(X,Y,test_size = 0.3)"
   ]
  },
  {
   "cell_type": "code",
   "execution_count": 18,
   "metadata": {},
   "outputs": [],
   "source": [
    "from sklearn.linear_model import LogisticRegression"
   ]
  },
  {
   "cell_type": "code",
   "execution_count": 19,
   "metadata": {},
   "outputs": [],
   "source": [
    "reg =  LogisticRegression()"
   ]
  },
  {
   "cell_type": "code",
   "execution_count": 21,
   "metadata": {},
   "outputs": [
    {
     "name": "stderr",
     "output_type": "stream",
     "text": [
      "C:\\Users\\Dell\\Anaconda3\\lib\\site-packages\\sklearn\\utils\\validation.py:578: DataConversionWarning: A column-vector y was passed when a 1d array was expected. Please change the shape of y to (n_samples, ), for example using ravel().\n",
      "  y = column_or_1d(y, warn=True)\n"
     ]
    },
    {
     "data": {
      "text/plain": [
       "LogisticRegression(C=1.0, class_weight=None, dual=False, fit_intercept=True,\n",
       "          intercept_scaling=1, max_iter=100, multi_class='ovr', n_jobs=1,\n",
       "          penalty='l2', random_state=None, solver='liblinear', tol=0.0001,\n",
       "          verbose=0, warm_start=False)"
      ]
     },
     "execution_count": 21,
     "metadata": {},
     "output_type": "execute_result"
    }
   ],
   "source": [
    "reg.fit(X_train,Y_train)"
   ]
  },
  {
   "cell_type": "code",
   "execution_count": 22,
   "metadata": {},
   "outputs": [
    {
     "data": {
      "text/plain": [
       "array([[ 0.00000000e+00, -3.54265287e-02, -3.23350012e-02,\n",
       "        -1.76974459e-03, -1.11576576e-01, -3.31446173e-01,\n",
       "        -1.61223681e-01, -1.59648085e-02, -2.18334390e-05,\n",
       "        -1.34830442e-01,  6.73472442e-02,  1.27452450e-01,\n",
       "         2.01843661e-01,  2.87375748e-01, -6.44872194e-02,\n",
       "        -1.65010381e-02, -3.41434843e-04,  6.83241903e-02,\n",
       "         1.60699359e-01, -1.31879496e-01, -2.57086613e-01,\n",
       "         3.09841514e-01,  1.72415325e-02, -2.26105603e-03,\n",
       "        -1.68318500e-04,  7.71920168e-02, -1.67922933e-02,\n",
       "        -1.94300638e-01, -5.36553525e-01, -3.54820163e-02,\n",
       "         1.15209979e-01, -3.20173000e-04,  0.00000000e+00,\n",
       "         3.12521224e-01,  1.83591236e-01, -2.34435743e-01,\n",
       "        -5.19009600e-01, -1.40845568e-01,  1.75634525e-02,\n",
       "         0.00000000e+00, -2.08210571e-03, -1.77616984e-02,\n",
       "         2.56099962e-01, -2.55309397e-01, -2.39677749e-01,\n",
       "         3.14868092e-02,  1.28489827e-01, -9.28614924e-05,\n",
       "        -2.69940264e-03, -1.18963930e-01, -1.49744717e-02,\n",
       "        -2.84450371e-02,  3.37520826e-02,  4.56624831e-02,\n",
       "        -8.79298400e-02, -6.01558746e-02, -5.32397957e-06,\n",
       "        -1.70049917e-02, -1.68805748e-01,  9.26269466e-03,\n",
       "        -3.64017983e-01, -1.83076904e-01, -1.37546161e-01,\n",
       "        -4.69600076e-02],\n",
       "       [ 0.00000000e+00,  8.40952483e-02,  2.20644462e-01,\n",
       "         4.13880190e-02, -4.82505914e-01,  3.00263323e-01,\n",
       "        -9.59131000e-02, -3.60692647e-01, -1.57163988e-05,\n",
       "        -1.77716739e+00, -3.42155887e-01, -4.65563357e-01,\n",
       "        -6.63356553e-02,  1.07325449e-02, -6.86927895e-01,\n",
       "        -2.20412004e-04,  1.01869681e-01,  6.04409152e-01,\n",
       "        -4.31756958e-02,  7.43265563e-01,  6.10826985e-01,\n",
       "        -6.72716229e-02,  4.16593289e-01, -7.43696508e-05,\n",
       "         5.09357880e-02,  4.88310480e-02, -8.17089719e-03,\n",
       "         2.79584515e-01, -2.01686171e-01,  7.61324358e-02,\n",
       "        -9.00281288e-01, -1.46759834e-06,  0.00000000e+00,\n",
       "        -9.14900721e-02,  4.83496030e-02, -1.40464818e-01,\n",
       "         1.57194020e-01,  1.50749198e-01, -4.65353404e-01,\n",
       "         0.00000000e+00, -1.34150115e-04, -7.32563206e-01,\n",
       "         4.67011428e-02, -1.61809716e-01, -9.78177423e-02,\n",
       "        -4.68725748e-01, -8.28087589e-02, -1.29764858e-02,\n",
       "        -9.48428494e-04, -9.74393121e-02, -1.42648645e-01,\n",
       "         3.63728793e-01,  1.18344659e-01, -3.71637575e-02,\n",
       "        -2.56583344e-01,  8.26816138e-01, -3.14831561e-04,\n",
       "         5.80845131e-02, -1.96745688e-01, -2.36642842e-01,\n",
       "        -1.51456956e-03,  1.05017162e-01, -3.42360111e-01,\n",
       "         3.15875873e-01],\n",
       "       [ 0.00000000e+00,  1.30583202e-02, -2.88474669e-02,\n",
       "        -3.89753297e-02,  4.18239848e-02, -2.54283627e-01,\n",
       "        -9.87640386e-02, -2.03137415e-02, -5.15510704e-04,\n",
       "         1.78524018e-01,  2.12325092e-01, -1.71806940e-01,\n",
       "         1.40799594e-01, -1.00951520e-01,  5.54822285e-03,\n",
       "        -4.77615939e-03, -4.32660671e-04, -1.47880829e-01,\n",
       "         1.10700379e-01, -1.81484557e-01,  2.09958123e-01,\n",
       "         2.72721414e-02,  9.52585599e-02, -7.58894611e-05,\n",
       "        -2.13852513e-05, -2.11946882e-01, -5.87753806e-01,\n",
       "        -5.02682177e-01, -2.77901440e-01,  1.38573566e-01,\n",
       "        -1.25734776e-01, -4.14797783e-06,  0.00000000e+00,\n",
       "        -1.97317489e-01, -4.74815846e-01, -2.12665685e-01,\n",
       "        -1.93713784e-01, -3.36903358e-01, -5.24755692e-01,\n",
       "         0.00000000e+00, -3.19784181e-05,  1.18009172e-01,\n",
       "         1.26221533e-01,  4.63783504e-01, -4.10870174e-01,\n",
       "        -3.76234121e-01, -4.42334104e-01,  1.30011618e-02,\n",
       "         8.11850919e-03,  1.46804574e-01, -9.52991346e-02,\n",
       "         3.50648533e-01,  2.91201416e-01,  2.45925989e-01,\n",
       "         1.89416591e-01,  4.68537309e-02,  2.71356754e-03,\n",
       "         4.52271006e-02,  5.84245966e-02, -1.05335193e-02,\n",
       "        -1.45185832e-02,  2.30832251e-01,  2.69049604e-01,\n",
       "         3.43765812e-02],\n",
       "       [ 0.00000000e+00,  4.16354051e-01, -3.47997183e-01,\n",
       "         3.04452732e-01,  5.52775673e-01,  3.22422210e-02,\n",
       "        -1.74545377e-01,  9.03931081e-02, -9.36742733e-02,\n",
       "        -4.03688604e-01,  5.06082307e-02, -2.83386604e-02,\n",
       "        -3.96403584e-02,  5.12624142e-01,  6.14726363e-01,\n",
       "         1.26742638e-01,  6.33778348e-06,  2.54466679e-02,\n",
       "        -4.54515235e-01, -5.42472721e-01,  3.07389676e-01,\n",
       "        -6.81448995e-01, -2.40445461e-01, -1.20994316e-04,\n",
       "        -2.68686454e-07, -6.96652325e-01, -7.68557458e-01,\n",
       "        -8.86623921e-02,  9.25580526e-02, -7.79895591e-02,\n",
       "        -1.28692046e+00, -7.14104488e-07,  0.00000000e+00,\n",
       "        -4.98292114e-01, -3.04190823e-01,  5.24354113e-02,\n",
       "         3.38956389e-02, -2.78212380e-01, -1.28521982e-01,\n",
       "         0.00000000e+00, -2.95257843e-06, -1.14677982e-01,\n",
       "        -4.67921868e-01, -1.03998658e+00,  4.11245066e-01,\n",
       "         1.03659205e+00,  7.03554123e-02, -4.75220405e-03,\n",
       "        -4.51232369e-06, -6.11284289e-01,  1.09750087e-01,\n",
       "        -2.83085920e-01, -3.56872014e-01, -3.07746924e-02,\n",
       "         7.59990173e-01, -6.67553160e-01, -5.90126420e-07,\n",
       "        -2.23570457e-01,  5.13812708e-01, -6.89169796e-01,\n",
       "         4.84367351e-01, -5.11980354e-01, -1.12557042e-01,\n",
       "        -4.75731982e-01],\n",
       "       [ 0.00000000e+00, -1.45501020e-02, -2.67890665e-01,\n",
       "        -5.14309798e-01, -2.75775401e-01, -4.56564789e-01,\n",
       "        -3.48274139e-01,  8.17023564e-03, -1.82065966e-05,\n",
       "        -8.12654703e-02, -1.34498464e-01, -2.46501582e-01,\n",
       "        -4.50394657e-01, -2.11648369e-01, -2.99854787e-01,\n",
       "        -2.02308359e-02, -1.20315521e-04, -8.62192551e-02,\n",
       "         2.24154117e-01, -1.98628296e-02,  7.14233403e-02,\n",
       "         1.36881102e-01, -5.30712173e-02,  2.42517016e-02,\n",
       "        -5.95203548e-05, -5.47438272e-02,  4.13846027e-01,\n",
       "         1.71114377e-02, -8.66071556e-02,  1.24308791e-01,\n",
       "         4.17859193e-01,  5.55736519e-03,  0.00000000e+00,\n",
       "         6.42533000e-02,  5.89113135e-02,  1.09880142e-01,\n",
       "         1.97507034e-01,  9.93393498e-02,  3.42692556e-01,\n",
       "         0.00000000e+00,  7.72044719e-04,  4.94406153e-01,\n",
       "        -7.08507572e-04,  2.28097695e-01,  1.94403324e-01,\n",
       "         1.40747116e-01, -1.19646732e-01, -4.13320768e-04,\n",
       "         1.87940318e-03,  3.56567337e-01, -1.98725832e-01,\n",
       "         2.34568469e-02,  1.53179005e-01, -2.68567561e-01,\n",
       "        -3.88668828e-01, -2.58502168e-03, -1.04979658e-05,\n",
       "        -3.60964061e-02, -2.35095019e-01, -1.14368170e-01,\n",
       "        -2.04455630e-01, -2.76103716e-01, -8.44786128e-02,\n",
       "        -1.42652186e-03],\n",
       "       [ 0.00000000e+00, -1.11579001e-01,  7.77103361e-01,\n",
       "        -3.77674034e-01, -2.30359312e-01,  4.03174202e-01,\n",
       "         5.52263668e-01, -1.42723469e-01,  2.31448768e-02,\n",
       "        -6.29336900e-02,  2.40371113e-02,  1.12889121e-01,\n",
       "         8.89404439e-03, -1.02943363e-01, -3.37713395e-01,\n",
       "        -6.26823837e-02, -2.62486613e-02, -2.21840057e-01,\n",
       "         4.34031129e-01,  6.05762414e-02, -4.10981314e-01,\n",
       "        -8.49777239e-01, -1.02214247e+00, -9.08319127e-03,\n",
       "        -1.31210027e-02,  5.56206578e-02,  4.55597387e-01,\n",
       "        -1.28679115e-01,  3.37453658e-01, -4.02484596e-03,\n",
       "        -9.71020209e-01, -9.18440900e-07,  0.00000000e+00,\n",
       "        -3.00887945e-01, -1.99852081e-02, -1.47028211e-01,\n",
       "        -2.20684064e-01, -2.59320567e-01,  3.46864168e-01,\n",
       "         0.00000000e+00,  1.34580717e-05, -3.03278899e-01,\n",
       "        -3.13850691e-01, -3.92802345e-01, -3.24117462e-01,\n",
       "         2.98180717e-01, -8.96971459e-02, -1.61830446e-03,\n",
       "         1.76230688e-05,  1.12275131e-01, -2.54980298e-01,\n",
       "         1.55011473e-01, -6.95025976e-02, -2.15565911e-01,\n",
       "        -4.26982362e-01, -3.45406658e-02,  2.36709941e-06,\n",
       "        -9.43692940e-02,  5.89432657e-02,  2.97709088e-01,\n",
       "        -3.00845396e-02, -1.27836579e-01, -3.47575081e-01,\n",
       "        -3.22562613e-01],\n",
       "       [ 0.00000000e+00, -3.55856423e-02, -3.87256177e-01,\n",
       "        -9.22700612e-02,  1.30310598e-01, -1.82523280e-01,\n",
       "        -1.00321937e-03, -1.25686777e-04, -3.22945374e-05,\n",
       "        -2.28108783e-01, -1.56559279e-01, -2.79690736e-01,\n",
       "        -2.34009175e-01,  1.02907772e-01,  3.21496759e-02,\n",
       "        -1.24683179e-04, -5.81135992e-03, -1.10485203e-01,\n",
       "         2.57555963e-01, -3.93084185e-02, -4.78055103e-01,\n",
       "        -6.57970600e-01, -2.44546429e-01, -2.28865074e-04,\n",
       "        -2.90084169e-03,  1.18966843e-01, -1.28881964e-01,\n",
       "         6.44692596e-02, -1.44372593e-01, -1.57156272e-01,\n",
       "        -5.45949740e-01, -1.09575764e-05,  0.00000000e+00,\n",
       "         1.78417779e-01,  6.84618704e-02,  8.74392827e-02,\n",
       "        -4.33469954e-03, -1.81278801e-02, -1.92212737e-01,\n",
       "         0.00000000e+00, -2.00846657e-03, -6.58652255e-01,\n",
       "         3.92363755e-01,  2.07275459e-01,  2.62312278e-02,\n",
       "        -1.53986615e-01,  4.12936878e-01,  1.56230279e-02,\n",
       "        -3.51402536e-04, -2.21561370e-01,  2.66388814e-01,\n",
       "         2.05563737e-01, -8.23629740e-02,  3.19197695e-01,\n",
       "         9.57899202e-02, -3.44275377e-01, -2.32203805e-06,\n",
       "        -2.67785006e-02, -1.93456099e-01, -2.55890256e-01,\n",
       "        -2.07132147e-01,  1.95344168e-01, -1.80634530e-01,\n",
       "        -1.07075475e-01],\n",
       "       [ 0.00000000e+00, -2.28432688e-01,  3.28415855e-01,\n",
       "         1.36967695e-01, -4.53415150e-02,  3.00959388e-01,\n",
       "         3.72329687e-01,  1.39064837e-01, -1.22377601e-05,\n",
       "        -6.37349255e-02,  3.31346751e-01, -6.65297633e-02,\n",
       "         5.86386707e-01, -8.03564198e-02, -3.31356086e-01,\n",
       "         1.76203896e-01, -4.47541038e-06, -2.35164182e-01,\n",
       "        -3.30340854e-01, -2.02752894e-01, -1.33670794e-01,\n",
       "         1.96362411e-01,  2.25998687e-01,  1.15609841e-02,\n",
       "        -1.44989297e-06, -3.94941708e-01, -3.27398694e-02,\n",
       "        -4.21066233e-01, -1.87409789e-01,  1.85544044e-01,\n",
       "         1.50081967e-01, -3.39910185e-03,  0.00000000e+00,\n",
       "         4.17882904e-03, -1.61571770e-01, -5.65546257e-02,\n",
       "         1.30526364e-01,  1.44998280e-01,  2.80533229e-01,\n",
       "         0.00000000e+00, -4.92359381e-05, -3.81633618e-01,\n",
       "         3.16282721e-01,  9.69127315e-03,  2.51422227e-01,\n",
       "         5.76870586e-02,  9.00586929e-02, -2.26058102e-05,\n",
       "        -2.32232611e-05, -2.86333802e-01,  5.61409400e-02,\n",
       "        -8.11573901e-03, -6.28408835e-01, -9.34425028e-01,\n",
       "        -3.55829172e-02, -3.92029613e-04, -4.54275140e-06,\n",
       "        -4.10606146e-01, -1.86308083e-01, -3.56866824e-01,\n",
       "        -2.47589375e-01, -5.56613387e-01, -1.38963982e-01,\n",
       "        -1.17483938e-03],\n",
       "       [ 0.00000000e+00,  9.13819632e-02,  9.41995489e-02,\n",
       "        -2.47639881e-01, -1.06584167e-02,  3.35171298e-03,\n",
       "        -6.85970654e-01, -1.25534465e-02,  7.46005647e-01,\n",
       "        -3.67428577e-02,  2.13717812e-01, -1.88325164e-02,\n",
       "        -2.57369251e-01,  1.45069561e-01,  1.23648215e-01,\n",
       "        -6.07542690e-02, -6.20934059e-01,  1.80778271e-01,\n",
       "         1.82329881e-01,  8.02636305e-02,  4.05670520e-02,\n",
       "         8.47778561e-02,  2.23020269e-01, -3.29824855e-02,\n",
       "        -4.92470412e-01, -1.68723802e-01, -3.65587792e-02,\n",
       "         1.70332911e-01, -4.63543151e-02,  2.51642579e-02,\n",
       "        -4.18234686e-01, -3.11861907e-04,  0.00000000e+00,\n",
       "        -4.55317533e-01, -7.74080398e-02,  2.67367436e-01,\n",
       "        -2.65446855e-02, -1.56182663e-01, -8.94861942e-01,\n",
       "         0.00000000e+00, -5.24794037e-04,  2.16708471e-01,\n",
       "         1.02850898e-01,  6.94019304e-02,  3.30431666e-02,\n",
       "         6.17532333e-02,  9.52605053e-02, -1.43674142e-01,\n",
       "        -1.28979161e-02, -1.03733498e-01,  2.16028364e-01,\n",
       "        -2.66482681e-01, -2.08560288e-01,  1.00487502e-01,\n",
       "        -1.71736054e-02, -1.22224393e-01, -4.26022851e-03,\n",
       "        -8.24280861e-02, -5.70748347e-01,  4.89837150e-03,\n",
       "         8.39151669e-03, -1.59963436e-01, -2.67385114e-01,\n",
       "        -9.72873799e-02],\n",
       "       [ 0.00000000e+00, -7.70870639e-01,  1.86134229e-01,\n",
       "         2.03856049e-01,  9.18835394e-02, -2.91351612e-01,\n",
       "        -2.34656316e-01, -8.90188743e-02, -2.20132264e-02,\n",
       "        -6.07434245e-02,  4.36542574e-02,  2.60721071e-01,\n",
       "        -3.76600352e-02, -1.11843116e-01,  3.84452572e-01,\n",
       "        -1.24570668e-01, -2.51301826e-01,  2.46889202e-01,\n",
       "         2.13926345e-01, -4.69122795e-02,  2.31570828e-01,\n",
       "         6.73190384e-01, -9.21529469e-02, -6.72790544e-02,\n",
       "        -1.14757128e-01,  4.76163358e-03,  2.00215023e-01,\n",
       "         2.90916922e-01, -1.73865175e-01,  1.58599885e-01,\n",
       "        -1.03709933e-01, -2.74645408e-02,  0.00000000e+00,\n",
       "        -9.13460817e-01, -9.60720843e-02,  3.72036183e-01,\n",
       "        -3.30064835e-01, -1.67682303e-01,  1.00322394e-01,\n",
       "         0.00000000e+00, -1.95499290e-06, -2.58045783e-01,\n",
       "        -6.14899210e-01, -1.08736062e+00, -4.85065217e-01,\n",
       "        -1.73841238e-01, -3.13384244e-01,  2.44223118e-04,\n",
       "        -2.84283497e-06,  1.50970779e-01, -5.81940811e-02,\n",
       "        -9.59749147e-02, -1.62335882e-01, -3.57417193e-01,\n",
       "        -6.89287489e-02,  7.89886174e-01, -2.77095364e-07,\n",
       "        -5.75660448e-01, -2.50072412e-01, -7.40941142e-02,\n",
       "        -2.00937414e-01,  1.40232983e-01, -2.76085107e-01,\n",
       "        -2.44490481e-01]])"
      ]
     },
     "execution_count": 22,
     "metadata": {},
     "output_type": "execute_result"
    }
   ],
   "source": [
    "reg.coef_"
   ]
  },
  {
   "cell_type": "code",
   "execution_count": 23,
   "metadata": {},
   "outputs": [
    {
     "data": {
      "text/plain": [
       "array([-0.02520877, -1.75866806, -0.03528796, -0.16731943,  0.00537752,\n",
       "       -0.11203401, -0.04328565, -0.0106698 , -2.26260529, -0.91381675])"
      ]
     },
     "execution_count": 23,
     "metadata": {},
     "output_type": "execute_result"
    }
   ],
   "source": [
    "reg.intercept_"
   ]
  },
  {
   "cell_type": "code",
   "execution_count": 30,
   "metadata": {},
   "outputs": [],
   "source": [
    "pre = reg.predict(X_test)"
   ]
  },
  {
   "cell_type": "markdown",
   "metadata": {},
   "source": [
    "#### Linear Regression"
   ]
  },
  {
   "cell_type": "code",
   "execution_count": 52,
   "metadata": {},
   "outputs": [],
   "source": [
    "from sklearn.linear_model import LinearRegression"
   ]
  },
  {
   "cell_type": "code",
   "execution_count": 53,
   "metadata": {},
   "outputs": [],
   "source": [
    "reg1 = LinearRegression()"
   ]
  },
  {
   "cell_type": "code",
   "execution_count": 54,
   "metadata": {},
   "outputs": [
    {
     "data": {
      "text/plain": [
       "LinearRegression(copy_X=True, fit_intercept=True, n_jobs=1, normalize=False)"
      ]
     },
     "execution_count": 54,
     "metadata": {},
     "output_type": "execute_result"
    }
   ],
   "source": [
    "reg1.fit(X_train,Y_train)"
   ]
  },
  {
   "cell_type": "code",
   "execution_count": 55,
   "metadata": {},
   "outputs": [],
   "source": [
    "pre1 = reg1.predict(X_test)"
   ]
  },
  {
   "cell_type": "markdown",
   "metadata": {},
   "source": [
    "####  Classification Score"
   ]
  },
  {
   "cell_type": "markdown",
   "metadata": {},
   "source": [
    "reg.score(X_test,Y_test)"
   ]
  },
  {
   "cell_type": "markdown",
   "metadata": {},
   "source": [
    "#### Logarthmic loss"
   ]
  },
  {
   "cell_type": "code",
   "execution_count": 39,
   "metadata": {},
   "outputs": [],
   "source": [
    "from sklearn.model_selection import KFold"
   ]
  },
  {
   "cell_type": "code",
   "execution_count": 56,
   "metadata": {},
   "outputs": [],
   "source": [
    "from sklearn import model_selection"
   ]
  },
  {
   "cell_type": "code",
   "execution_count": 59,
   "metadata": {},
   "outputs": [
    {
     "name": "stderr",
     "output_type": "stream",
     "text": [
      "C:\\Users\\Dell\\Anaconda3\\lib\\site-packages\\sklearn\\utils\\validation.py:578: DataConversionWarning: A column-vector y was passed when a 1d array was expected. Please change the shape of y to (n_samples, ), for example using ravel().\n",
      "  y = column_or_1d(y, warn=True)\n",
      "C:\\Users\\Dell\\Anaconda3\\lib\\site-packages\\sklearn\\utils\\validation.py:578: DataConversionWarning: A column-vector y was passed when a 1d array was expected. Please change the shape of y to (n_samples, ), for example using ravel().\n",
      "  y = column_or_1d(y, warn=True)\n",
      "C:\\Users\\Dell\\Anaconda3\\lib\\site-packages\\sklearn\\utils\\validation.py:578: DataConversionWarning: A column-vector y was passed when a 1d array was expected. Please change the shape of y to (n_samples, ), for example using ravel().\n",
      "  y = column_or_1d(y, warn=True)\n",
      "C:\\Users\\Dell\\Anaconda3\\lib\\site-packages\\sklearn\\utils\\validation.py:578: DataConversionWarning: A column-vector y was passed when a 1d array was expected. Please change the shape of y to (n_samples, ), for example using ravel().\n",
      "  y = column_or_1d(y, warn=True)\n",
      "C:\\Users\\Dell\\Anaconda3\\lib\\site-packages\\sklearn\\utils\\validation.py:578: DataConversionWarning: A column-vector y was passed when a 1d array was expected. Please change the shape of y to (n_samples, ), for example using ravel().\n",
      "  y = column_or_1d(y, warn=True)\n",
      "C:\\Users\\Dell\\Anaconda3\\lib\\site-packages\\sklearn\\utils\\validation.py:578: DataConversionWarning: A column-vector y was passed when a 1d array was expected. Please change the shape of y to (n_samples, ), for example using ravel().\n",
      "  y = column_or_1d(y, warn=True)\n",
      "C:\\Users\\Dell\\Anaconda3\\lib\\site-packages\\sklearn\\utils\\validation.py:578: DataConversionWarning: A column-vector y was passed when a 1d array was expected. Please change the shape of y to (n_samples, ), for example using ravel().\n",
      "  y = column_or_1d(y, warn=True)\n",
      "C:\\Users\\Dell\\Anaconda3\\lib\\site-packages\\sklearn\\utils\\validation.py:578: DataConversionWarning: A column-vector y was passed when a 1d array was expected. Please change the shape of y to (n_samples, ), for example using ravel().\n",
      "  y = column_or_1d(y, warn=True)\n",
      "C:\\Users\\Dell\\Anaconda3\\lib\\site-packages\\sklearn\\utils\\validation.py:578: DataConversionWarning: A column-vector y was passed when a 1d array was expected. Please change the shape of y to (n_samples, ), for example using ravel().\n",
      "  y = column_or_1d(y, warn=True)\n",
      "C:\\Users\\Dell\\Anaconda3\\lib\\site-packages\\sklearn\\utils\\validation.py:578: DataConversionWarning: A column-vector y was passed when a 1d array was expected. Please change the shape of y to (n_samples, ), for example using ravel().\n",
      "  y = column_or_1d(y, warn=True)\n"
     ]
    }
   ],
   "source": [
    "kfold =model_selection.KFold(n_splits= 10,random_state=7)\n",
    "res = model_selection.cross_val_score(reg,X,Y,cv= kfold,scoring = \"neg_log_loss\")"
   ]
  },
  {
   "cell_type": "code",
   "execution_count": 60,
   "metadata": {},
   "outputs": [
    {
     "data": {
      "text/plain": [
       "array([-0.45798961, -0.14435058, -0.61749705, -0.27323142, -0.27594697,\n",
       "       -0.12815811, -0.11024468, -0.1233365 , -0.62592303, -0.68553964])"
      ]
     },
     "execution_count": 60,
     "metadata": {},
     "output_type": "execute_result"
    }
   ],
   "source": [
    "res"
   ]
  },
  {
   "cell_type": "markdown",
   "metadata": {},
   "source": [
    "#### R2 metrices"
   ]
  },
  {
   "cell_type": "code",
   "execution_count": 62,
   "metadata": {},
   "outputs": [],
   "source": [
    "res1 = model_selection.cross_val_score(reg1,X,Y,cv= kfold,scoring = \"r2\")"
   ]
  },
  {
   "cell_type": "code",
   "execution_count": 63,
   "metadata": {},
   "outputs": [
    {
     "data": {
      "text/plain": [
       "array([0.40105499, 0.63102463, 0.57072313, 0.59629035, 0.54519634,\n",
       "       0.67174215, 0.61763556, 0.47611004, 0.4236549 , 0.41044286])"
      ]
     },
     "execution_count": 63,
     "metadata": {},
     "output_type": "execute_result"
    }
   ],
   "source": [
    "res1"
   ]
  },
  {
   "cell_type": "markdown",
   "metadata": {},
   "source": [
    "#### mean absolute error"
   ]
  },
  {
   "cell_type": "code",
   "execution_count": 64,
   "metadata": {},
   "outputs": [],
   "source": [
    "from sklearn.metrics import mean_absolute_error"
   ]
  },
  {
   "cell_type": "code",
   "execution_count": 65,
   "metadata": {},
   "outputs": [
    {
     "data": {
      "text/plain": [
       "1.4337449285128872"
      ]
     },
     "execution_count": 65,
     "metadata": {},
     "output_type": "execute_result"
    }
   ],
   "source": [
    "mean_absolute_error(Y_test,pre1)"
   ]
  },
  {
   "cell_type": "markdown",
   "metadata": {},
   "source": [
    "#### Mean squared error "
   ]
  },
  {
   "cell_type": "code",
   "execution_count": 66,
   "metadata": {},
   "outputs": [],
   "source": [
    "from sklearn.metrics import mean_squared_error"
   ]
  },
  {
   "cell_type": "code",
   "execution_count": 68,
   "metadata": {},
   "outputs": [
    {
     "data": {
      "text/plain": [
       "3.5010599721957734"
      ]
     },
     "execution_count": 68,
     "metadata": {},
     "output_type": "execute_result"
    }
   ],
   "source": [
    "mean_squared_error(Y_test,pre1)"
   ]
  },
  {
   "cell_type": "markdown",
   "metadata": {},
   "source": [
    "#### Confusion matrix"
   ]
  },
  {
   "cell_type": "code",
   "execution_count": 69,
   "metadata": {},
   "outputs": [],
   "source": [
    "from sklearn.metrics import confusion_matrix"
   ]
  },
  {
   "cell_type": "code",
   "execution_count": 70,
   "metadata": {},
   "outputs": [
    {
     "name": "stdout",
     "output_type": "stream",
     "text": [
      "[[52  0  0  0  1  0  0  0  0  0]\n",
      " [ 0 54  0  2  0  0  0  0  0  1]\n",
      " [ 0  0 53  0  0  0  0  0  0  0]\n",
      " [ 0  0  0 48  0  1  0  0  1  0]\n",
      " [ 0  2  0  0 51  0  0  0  1  0]\n",
      " [ 0  0  1  0  0 56  0  0  0  1]\n",
      " [ 0  0  0  0  1  1 59  0  0  0]\n",
      " [ 0  0  0  0  1  0  0 51  0  0]\n",
      " [ 0  4  0  1  0  0  0  0 45  0]\n",
      " [ 0  0  0  0  0  1  0  0  2 49]]\n"
     ]
    }
   ],
   "source": [
    "print(confusion_matrix(Y_test,pre))"
   ]
  },
  {
   "cell_type": "markdown",
   "metadata": {},
   "source": [
    "#### Classification report"
   ]
  },
  {
   "cell_type": "code",
   "execution_count": 71,
   "metadata": {},
   "outputs": [],
   "source": [
    "from sklearn.metrics import classification_report"
   ]
  },
  {
   "cell_type": "code",
   "execution_count": 73,
   "metadata": {},
   "outputs": [
    {
     "name": "stdout",
     "output_type": "stream",
     "text": [
      "             precision    recall  f1-score   support\n",
      "\n",
      "          0       1.00      0.98      0.99        53\n",
      "          1       0.90      0.95      0.92        57\n",
      "          2       0.98      1.00      0.99        53\n",
      "          3       0.94      0.96      0.95        50\n",
      "          4       0.94      0.94      0.94        54\n",
      "          5       0.95      0.97      0.96        58\n",
      "          6       1.00      0.97      0.98        61\n",
      "          7       1.00      0.98      0.99        52\n",
      "          8       0.92      0.90      0.91        50\n",
      "          9       0.96      0.94      0.95        52\n",
      "\n",
      "avg / total       0.96      0.96      0.96       540\n",
      "\n"
     ]
    }
   ],
   "source": [
    "print(classification_report(Y_test,pre))"
   ]
  },
  {
   "cell_type": "code",
   "execution_count": null,
   "metadata": {},
   "outputs": [],
   "source": []
  }
 ],
 "metadata": {
  "kernelspec": {
   "display_name": "Python 3",
   "language": "python",
   "name": "python3"
  },
  "language_info": {
   "codemirror_mode": {
    "name": "ipython",
    "version": 3
   },
   "file_extension": ".py",
   "mimetype": "text/x-python",
   "name": "python",
   "nbconvert_exporter": "python",
   "pygments_lexer": "ipython3",
   "version": "3.6.5"
  }
 },
 "nbformat": 4,
 "nbformat_minor": 2
}
